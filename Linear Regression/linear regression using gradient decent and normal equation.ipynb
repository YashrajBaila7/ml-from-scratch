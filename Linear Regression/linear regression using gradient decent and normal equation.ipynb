{
 "cells": [
  {
   "cell_type": "markdown",
   "id": "af729c9a",
   "metadata": {},
   "source": [
    "This is the implementation of stanford cs 229 linear regression Aoutom 2018 Lecture 2"
   ]
  },
  {
   "cell_type": "code",
   "execution_count": 26,
   "id": "d2b9618e",
   "metadata": {},
   "outputs": [],
   "source": [
    "import pickle\n",
    "import numpy as np\n",
    "from typing import Union,List\n",
    "import pandas as pd\n",
    "from numpy import ndarray\n",
    "import matplotlib.pyplot as plt"
   ]
  },
  {
   "cell_type": "code",
   "execution_count": null,
   "id": "76d4d82b",
   "metadata": {},
   "outputs": [],
   "source": [
    "class LinearRegression:\n",
    "    def __init__(self):\n",
    "        self.x_mean : ndarray = None\n",
    "        self.x_std : ndarray = None\n",
    "        self.y_mean : ndarray = None\n",
    "        self.y_std : ndarray = None\n",
    "        self.Theta : ndarray = None\n",
    "        self.theta : ndarray = None\n",
    "        self.x_norm : ndarray = None\n",
    "        self.y_norm : ndarray = None\n",
    "    def normalize(self, x_train: ndarray, y_train: ndarray, add_bias=True):\n",
    "        x_mean, x_std = x_train.mean(axis=0), x_train.std(axis=0)\n",
    "        x_norm = (x_train - x_mean) / x_std\n",
    "        y_mean, y_std = y_train.mean(axis=0), y_train.std(axis=0)\n",
    "        y_norm = (y_train - y_mean) / y_std\n",
    "        if add_bias:\n",
    "            x_0 = np.ones((x_norm.shape[0], 1))\n",
    "            x_norm = np.hstack((x_0, x_norm), dtype=x_norm.dtype)\n",
    "        \n",
    "        m, n = x_norm.shape\n",
    "        self.x_mean = x_mean\n",
    "        self.x_std = x_std\n",
    "        self.x_norm = x_norm\n",
    "        self.y_mean = y_mean\n",
    "        self.y_std = y_std\n",
    "        self.y_norm = y_norm\n",
    "\n",
    "        return x_norm, y_norm, m, n, x_mean, x_std, y_mean, y_std\n",
    "    \n",
    "    def h(self, x: ndarray, theta: ndarray) -> ndarray:\n",
    "        return np.dot(x, theta)\n",
    "    \n",
    "    def J(self, x: ndarray, y: ndarray ,theta: ndarray) -> float:\n",
    "        m = x.shape[0]\n",
    "        error = self.h(x,theta) - y\n",
    "        return (1 / (2 * m)) * np.sum(np.square(error))\n",
    "    \n",
    "    def fit(self, x_train: ndarray, y_train: ndarray, add_bias: bool = True) -> ndarray:\n",
    "        self.normalize(x_train, y_train, add_bias)\n",
    "        XtX_inv = np.linalg.pinv(self.x_norm.T @ self.x_norm)\n",
    "        Xty = self.x_norm.T @ self.y_norm\n",
    "        theta = XtX_inv @ Xty\n",
    "        loss = self.J(self.x_norm, self.y_norm, theta)\n",
    "        print(f\"Loss = {loss}\")\n",
    "\n",
    "        self.Theta=theta\n",
    "\n",
    "        return theta\n",
    "    \n",
    "    def train(self ,x_train : ndarray, y_train :ndarray, alpha : float, theta : ndarray = None, epoch : int = 100, add_bias: bool = True) -> ndarray:\n",
    "        self.normalize(x_train, y_train, add_bias)\n",
    "        if theta is None:\n",
    "            theta = np.zeros((self.x_norm.shape[1], 1))\n",
    "        epochs, losses = list(range(1, epoch + 1)), list()\n",
    "        m = self.x_norm.shape[0]\n",
    "        for _ in range(epoch):\n",
    "            error = self.h(self.x_norm, theta) - self.y_norm\n",
    "            grad = (1 / m) * self.x_norm.T @ error\n",
    "            theta -= alpha * grad\n",
    "            losses.append(self.J(self.x_norm, self.y_norm, theta))\n",
    "\n",
    "        self.theta = theta\n",
    "\n",
    "        print(f\"Loss = {self.J(self.x_norm, self.y_norm, theta)}\")\n",
    "        plt.plot(epochs, losses)\n",
    "        plt.xlabel(\"Epoch\")\n",
    "        plt.ylabel(\"Loss\")\n",
    "        plt.grid(True)\n",
    "        plt.show()\n",
    "        return theta\n",
    "    \n",
    "    def save(self, filepath) -> None:\n",
    "        data = {\n",
    "            \"x_mean\" : self.x_mean,\n",
    "            \"x_std\" : self.x_std,\n",
    "            \"y_mean\" : self.y_mean,\n",
    "            \"y_std\" : self.y_std,\n",
    "            \"theta\" : self.theta,\n",
    "            \"Theta\" : self.Theta\n",
    "        }\n",
    "\n",
    "        with open(filepath, 'wb') as f:\n",
    "            pickle.dump(data, f)\n",
    "        \n",
    "    class Loader:\n",
    "        def __init__(self, path: str):\n",
    "            with open(path, 'rb') as f:\n",
    "                data = pickle.load(f)\n",
    "\n",
    "            self.x_mean = data.get(\"x_mean\")\n",
    "            self.x_std = data.get(\"x_std\")\n",
    "            self.y_mean = data.get(\"y_mean\")\n",
    "            self.y_std = data.get(\"y_std\")\n",
    "            self.theta = data.get(\"theta\")\n",
    "            self.Theta = data.get(\"Theta\")\n",
    "\n",
    "            if self.x_mean is None or self.x_std is None:\n",
    "                raise ValueError(\"Missing normalization parameters: x_mean or x_std.\")\n",
    "            if self.y_mean is None or self.y_std is None:\n",
    "                raise ValueError(\"Missing normalization parameters: y_mean or y_std.\")\n",
    "            if self.theta is None and self.Theta is None:\n",
    "                raise ValueError(\"Neither theta nor Theta available for predictions.\")\n",
    "\n",
    "        def h(self, x: ndarray, theta: ndarray) -> ndarray:\n",
    "            return np.dot(x, theta)\n",
    "\n",
    "        def predict(\n",
    "            self,\n",
    "            X_input: Union[List[float], List[List[float]]],\n",
    "            use_theta: bool = False,\n",
    "            use_Theta: bool = False,\n",
    "            add_bias: bool = False\n",
    "        ) -> ndarray:\n",
    "            X_input = np.array(X_input, dtype=float)\n",
    "            if X_input.ndim == 1:\n",
    "                X_input = X_input.reshape(1, -1)\n",
    "\n",
    "            X_norm = (X_input - self.x_mean) / self.x_std\n",
    "\n",
    "            if add_bias:\n",
    "                if not np.allclose(X_norm[:, 0], 1.0):\n",
    "                    X_norm = np.hstack((np.ones((X_norm.shape[0], 1)), X_norm))\n",
    "\n",
    "            theta_used = None\n",
    "            if use_theta and self.theta is not None:\n",
    "                theta_used = self.theta\n",
    "            elif use_Theta and self.Theta is not None:\n",
    "                theta_used = self.Theta\n",
    "            elif self.Theta is not None:\n",
    "                theta_used = self.Theta\n",
    "            elif self.theta is not None:\n",
    "                theta_used = self.theta\n",
    "            else:\n",
    "                raise ValueError(\"No valid theta or Theta found.\")\n",
    "\n",
    "            # Predict and denormalize\n",
    "            y_pred_norm = self.h(X_norm, theta_used)\n",
    "            y_pred = y_pred_norm * self.y_std + self.y_mean\n",
    "            return y_pred       \n"
   ]
  },
  {
   "cell_type": "code",
   "execution_count": 28,
   "id": "48e22be2",
   "metadata": {},
   "outputs": [
    {
     "name": "stdout",
     "output_type": "stream",
     "text": [
      "Size_sqft    0\n",
      "Bedrooms     0\n",
      "Price_USD    0\n",
      "dtype: int64\n"
     ]
    },
    {
     "data": {
      "text/html": [
       "<div>\n",
       "<style scoped>\n",
       "    .dataframe tbody tr th:only-of-type {\n",
       "        vertical-align: middle;\n",
       "    }\n",
       "\n",
       "    .dataframe tbody tr th {\n",
       "        vertical-align: top;\n",
       "    }\n",
       "\n",
       "    .dataframe thead th {\n",
       "        text-align: right;\n",
       "    }\n",
       "</style>\n",
       "<table border=\"1\" class=\"dataframe\">\n",
       "  <thead>\n",
       "    <tr style=\"text-align: right;\">\n",
       "      <th></th>\n",
       "      <th>Size_sqft</th>\n",
       "      <th>Bedrooms</th>\n",
       "      <th>Price_USD</th>\n",
       "    </tr>\n",
       "  </thead>\n",
       "  <tbody>\n",
       "    <tr>\n",
       "      <th>0</th>\n",
       "      <td>2104</td>\n",
       "      <td>3</td>\n",
       "      <td>399900</td>\n",
       "    </tr>\n",
       "    <tr>\n",
       "      <th>1</th>\n",
       "      <td>1600</td>\n",
       "      <td>3</td>\n",
       "      <td>329900</td>\n",
       "    </tr>\n",
       "    <tr>\n",
       "      <th>2</th>\n",
       "      <td>2400</td>\n",
       "      <td>3</td>\n",
       "      <td>369000</td>\n",
       "    </tr>\n",
       "    <tr>\n",
       "      <th>3</th>\n",
       "      <td>1416</td>\n",
       "      <td>2</td>\n",
       "      <td>232000</td>\n",
       "    </tr>\n",
       "    <tr>\n",
       "      <th>4</th>\n",
       "      <td>3000</td>\n",
       "      <td>4</td>\n",
       "      <td>539900</td>\n",
       "    </tr>\n",
       "  </tbody>\n",
       "</table>\n",
       "</div>"
      ],
      "text/plain": [
       "   Size_sqft  Bedrooms  Price_USD\n",
       "0       2104         3     399900\n",
       "1       1600         3     329900\n",
       "2       2400         3     369000\n",
       "3       1416         2     232000\n",
       "4       3000         4     539900"
      ]
     },
     "execution_count": 28,
     "metadata": {},
     "output_type": "execute_result"
    }
   ],
   "source": [
    "data = pd.read_csv(\"C:\\\\Users\\\\DeLL\\\\OneDrive\\\\Desktop\\\\gitml\\\\data\\\\Data.txt\", header=None,\n",
    "                   names=[\"Size_sqft\", \"Bedrooms\", \"Price_USD\"])\n",
    "print(data.isnull().sum())\n",
    "data.head()"
   ]
  },
  {
   "cell_type": "code",
   "execution_count": 29,
   "id": "d040ac0c",
   "metadata": {},
   "outputs": [],
   "source": [
    "x_train = data[[\"Size_sqft\", \"Bedrooms\"]].values\n",
    "y_train = data[[\"Price_USD\"]].values"
   ]
  },
  {
   "cell_type": "code",
   "execution_count": 24,
   "id": "9de09002",
   "metadata": {},
   "outputs": [
    {
     "name": "stdout",
     "output_type": "stream",
     "text": [
      "Loss = 0.13352749098554287\n",
      "Loss = 0.13354204095745859\n"
     ]
    },
    {
     "data": {
      "image/png": "[encoded data removed]",
      "text/plain": [
       "<Figure size 640x480 with 1 Axes>"
      ]
     },
     "metadata": {},
     "output_type": "display_data"
    }
   ],
   "source": [
    "model = LinearRegression()\n",
    "\n",
    "model.fit(x_train,y_train,add_bias=True)\n",
    "model.train(x_train,y_train, 0.001, epoch= 10000, add_bias= True)\n",
    "\n",
    "model.save(\"params.pkl\")"
   ]
  },
  {
   "cell_type": "code",
   "execution_count": 30,
   "id": "0b56e97b",
   "metadata": {},
   "outputs": [
    {
     "name": "stdout",
     "output_type": "stream",
     "text": [
      "Predicted: [272492.04032544]\n"
     ]
    }
   ],
   "source": [
    "inference = LinearRegression.Loader(\"params.pkl\")\n",
    "y_pred = inference.predict([1500, 3],use_theta=True ,use_Theta=True, add_bias=True)\n",
    "print(\"Predicted:\", y_pred[0])"
   ]
  }
 ],
 "metadata": {
  "kernelspec": {
   "display_name": "Python 3",
   "language": "python",
   "name": "python3"
  },
  "language_info": {
   "codemirror_mode": {
    "name": "ipython",
    "version": 3
   },
   "file_extension": ".py",
   "mimetype": "text/x-python",
   "name": "python",
   "nbconvert_exporter": "python",
   "pygments_lexer": "ipython3",
   "version": "3.12.8"
  }
 },
 "nbformat": 4,
 "nbformat_minor": 5
}
