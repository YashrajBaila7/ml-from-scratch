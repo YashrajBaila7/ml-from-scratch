{
 "cells": [
  {
   "cell_type": "markdown",
   "id": "0fb1d476",
   "metadata": {},
   "source": [
    "# Naive Bayes from Scratch\n",
    "\n",
    "This notebook implements the **Multinomial Naive Bayes** with **Laplace smoothing** classifier for **Spam Email Classification** from scratch, \n",
    "following the probabilistic model taught in **Stanford's CS229: Machine Learning (Autumn 2018, Lecture 5 & 6)** by Andrew Ng.\n",
    "\n",
    "It includes:\n",
    "- Tokenization and preprocessing of raw email text\n",
    "- Vocabulary construction with a frequency threshold\n",
    "- Transformation of text data into bag-of-words feature vectors\n",
    "- Estimation of conditional probabilities with Laplace smoothing\n",
    "- Model training and inference\n",
    "- Accuracy evaluation on labeled data\n",
    "\n",
    "\n",
    "> 📘 This notebook is part of the broader `ml-from-scratch` project, which reimplements foundational machine learning algorithms using only **NumPy** and **pandas**, for educational clarity and hands-on understanding.\n",
    "\n"
   ]
  },
  {
   "cell_type": "code",
   "execution_count": 92,
   "id": "a53f3ec8",
   "metadata": {},
   "outputs": [],
   "source": [
    "import pickle\n",
    "import collections\n",
    "import numpy as np\n",
    "import pandas as pd\n",
    "from numpy.typing import NDArray\n",
    "from typing import Optional, Dict\n"
   ]
  },
  {
   "cell_type": "code",
   "execution_count": 93,
   "id": "b2293424",
   "metadata": {},
   "outputs": [],
   "source": [
    "class NaiveBayes:\n",
    "    \"\"\"For Spam email classification\"\"\"\n",
    "    def __init__(self):\n",
    "        self.word_dictionary: Optional[Dict[str, int]] = None\n",
    "        self.phi_y: Optional[float] = None\n",
    "        self.phi_j_y1: Optional[NDArray[np.float64]] = None\n",
    "        self.phi_j_y0: Optional[NDArray[np.float64]] = None\n",
    "\n",
    "    @staticmethod\n",
    "    def get_words(message: str):\n",
    "        return message.lower().split()\n",
    "    \n",
    "    @staticmethod\n",
    "    def create_dictionary(messages, size: int):\n",
    "        words = [word for message in messages for word in NaiveBayes.get_words(message)]\n",
    "        word_counts = collections.Counter(words)\n",
    "        freq_words = [word for word, count in word_counts.items() if count >= size]\n",
    "        return {word: index for index, word in enumerate(freq_words)}\n",
    "    \n",
    "    @staticmethod\n",
    "    def transform_text(messages: list[str], word_dictionary: dict[str, int]):\n",
    "        m = len(messages)\n",
    "        n = len(word_dictionary)\n",
    "        word_counts = [collections.Counter(NaiveBayes.get_words(message)) for message in messages]\n",
    "        matrix = np.zeros((m, n), dtype=int)\n",
    "\n",
    "        for i in range(m):\n",
    "            for word, count in word_counts[i].items():\n",
    "                if word in word_dictionary:\n",
    "                    matrix[i][word_dictionary[word]] += count\n",
    "        return matrix\n",
    "     \n",
    "    def predict(self, x: list[str]):\n",
    "        matrix = self.transform_text(x, self.word_dictionary)\n",
    "        \n",
    "        log_phi_j_y1 = np.log(self.phi_j_y1)\n",
    "        log_phi_j_y0 = np.log(self.phi_j_y0)\n",
    "\n",
    "        scores = matrix @ (log_phi_j_y1 - log_phi_j_y0) + np.log(self.phi_y / (1 - self.phi_y))\n",
    "        return (scores >= 0).astype(int)\n",
    "\n",
    "    def fit(self, x_train: list[str], y_train: NDArray, size: int):\n",
    "        self.word_dictionary = NaiveBayes.create_dictionary(x_train, size)\n",
    "        matrix = NaiveBayes.transform_text(x_train, self.word_dictionary)\n",
    "\n",
    "        m, n = matrix.shape\n",
    "\n",
    "        self.phi_y = np.mean(y_train)\n",
    "\n",
    "        self.phi_j_y1 = (1 + matrix[y_train == 1].sum(axis=0)) / (n + matrix[y_train == 1].sum())\n",
    "        self.phi_j_y0 = (1 + matrix[y_train == 0].sum(axis=0)) / (n + matrix[y_train == 0].sum())\n",
    "\n",
    "        preds = self.predict(x_train)\n",
    "        accuracy = np.mean(preds == y_train)\n",
    "        print(f\"Model fitted with training accuracy: {accuracy * 100:.2f}%\")\n",
    "\n",
    "    def save(self, filepath):\n",
    "        data = {\n",
    "            \"word_dictionary\" : self.word_dictionary,\n",
    "            \"phi_y\" : self.phi_y,\n",
    "            \"phi_j_y1\" : self.phi_j_y1,\n",
    "            \"phi_j_y0\" : self.phi_j_y0\n",
    "        }\n",
    "\n",
    "        with open(filepath,'wb') as f:\n",
    "                pickle.dump(data, f)\n",
    "\n",
    "    class Loader:\n",
    "        def __init__(self, path: str):\n",
    "            with open(path, 'rb') as f:\n",
    "                data = pickle.load(f)\n",
    "\n",
    "            self.model = NaiveBayes()\n",
    "            self.model.word_dictionary = data.get(\"word_dictionary\")\n",
    "            self.model.phi_y = data.get(\"phi_y\")\n",
    "            self.model.phi_j_y0 = data.get(\"phi_j_y1\")\n",
    "            self.model.phi_j_y1 =  data.get(\"phi_j_y0\")\n",
    "\n",
    "        def predict(self, x: list[str]):\n",
    "            return self.model.predict(x)\n"
   ]
  },
  {
   "cell_type": "code",
   "execution_count": 94,
   "id": "fcd91296",
   "metadata": {},
   "outputs": [
    {
     "data": {
      "text/html": [
       "<div>\n",
       "<style scoped>\n",
       "    .dataframe tbody tr th:only-of-type {\n",
       "        vertical-align: middle;\n",
       "    }\n",
       "\n",
       "    .dataframe tbody tr th {\n",
       "        vertical-align: top;\n",
       "    }\n",
       "\n",
       "    .dataframe thead th {\n",
       "        text-align: right;\n",
       "    }\n",
       "</style>\n",
       "<table border=\"1\" class=\"dataframe\">\n",
       "  <thead>\n",
       "    <tr style=\"text-align: right;\">\n",
       "      <th></th>\n",
       "      <th>label</th>\n",
       "      <th>message</th>\n",
       "    </tr>\n",
       "  </thead>\n",
       "  <tbody>\n",
       "    <tr>\n",
       "      <th>0</th>\n",
       "      <td>ham</td>\n",
       "      <td>THANX 4 PUTTIN DA FONE DOWN ON ME!!</td>\n",
       "    </tr>\n",
       "    <tr>\n",
       "      <th>1</th>\n",
       "      <td>ham</td>\n",
       "      <td>So how are you really. What are you up to. How...</td>\n",
       "    </tr>\n",
       "    <tr>\n",
       "      <th>2</th>\n",
       "      <td>ham</td>\n",
       "      <td>Joy's father is John. Then John is the NAME of...</td>\n",
       "    </tr>\n",
       "    <tr>\n",
       "      <th>3</th>\n",
       "      <td>ham</td>\n",
       "      <td>Almost there, see u in a sec</td>\n",
       "    </tr>\n",
       "    <tr>\n",
       "      <th>4</th>\n",
       "      <td>ham</td>\n",
       "      <td>Yes baby! We can study all the positions of th...</td>\n",
       "    </tr>\n",
       "  </tbody>\n",
       "</table>\n",
       "</div>"
      ],
      "text/plain": [
       "  label                                            message\n",
       "0   ham                THANX 4 PUTTIN DA FONE DOWN ON ME!!\n",
       "1   ham  So how are you really. What are you up to. How...\n",
       "2   ham  Joy's father is John. Then John is the NAME of...\n",
       "3   ham                       Almost there, see u in a sec\n",
       "4   ham  Yes baby! We can study all the positions of th..."
      ]
     },
     "execution_count": 94,
     "metadata": {},
     "output_type": "execute_result"
    }
   ],
   "source": [
    "data = pd.read_csv('./data/ds6_train.tsv', sep='\\t', names=['label', 'message'])\n",
    "val = pd.read_csv('./data/ds6_val.tsv', sep='\\t', names=['label', 'message'])\n",
    "test = pd.read_csv('./data/ds6_test.tsv', sep='\\t', names=['label', 'message'])\n",
    "data.head()"
   ]
  },
  {
   "cell_type": "code",
   "execution_count": 95,
   "id": "46463de5",
   "metadata": {},
   "outputs": [],
   "source": [
    "data.label = data.label.map({'ham' : 0, 'spam' : 1})"
   ]
  },
  {
   "cell_type": "code",
   "execution_count": 96,
   "id": "e03c477a",
   "metadata": {},
   "outputs": [
    {
     "data": {
      "text/html": [
       "<div>\n",
       "<style scoped>\n",
       "    .dataframe tbody tr th:only-of-type {\n",
       "        vertical-align: middle;\n",
       "    }\n",
       "\n",
       "    .dataframe tbody tr th {\n",
       "        vertical-align: top;\n",
       "    }\n",
       "\n",
       "    .dataframe thead th {\n",
       "        text-align: right;\n",
       "    }\n",
       "</style>\n",
       "<table border=\"1\" class=\"dataframe\">\n",
       "  <thead>\n",
       "    <tr style=\"text-align: right;\">\n",
       "      <th></th>\n",
       "      <th>label</th>\n",
       "      <th>message</th>\n",
       "    </tr>\n",
       "  </thead>\n",
       "  <tbody>\n",
       "    <tr>\n",
       "      <th>0</th>\n",
       "      <td>0</td>\n",
       "      <td>THANX 4 PUTTIN DA FONE DOWN ON ME!!</td>\n",
       "    </tr>\n",
       "    <tr>\n",
       "      <th>1</th>\n",
       "      <td>0</td>\n",
       "      <td>So how are you really. What are you up to. How...</td>\n",
       "    </tr>\n",
       "    <tr>\n",
       "      <th>2</th>\n",
       "      <td>0</td>\n",
       "      <td>Joy's father is John. Then John is the NAME of...</td>\n",
       "    </tr>\n",
       "    <tr>\n",
       "      <th>3</th>\n",
       "      <td>0</td>\n",
       "      <td>Almost there, see u in a sec</td>\n",
       "    </tr>\n",
       "    <tr>\n",
       "      <th>4</th>\n",
       "      <td>0</td>\n",
       "      <td>Yes baby! We can study all the positions of th...</td>\n",
       "    </tr>\n",
       "  </tbody>\n",
       "</table>\n",
       "</div>"
      ],
      "text/plain": [
       "   label                                            message\n",
       "0      0                THANX 4 PUTTIN DA FONE DOWN ON ME!!\n",
       "1      0  So how are you really. What are you up to. How...\n",
       "2      0  Joy's father is John. Then John is the NAME of...\n",
       "3      0                       Almost there, see u in a sec\n",
       "4      0  Yes baby! We can study all the positions of th..."
      ]
     },
     "execution_count": 96,
     "metadata": {},
     "output_type": "execute_result"
    }
   ],
   "source": [
    "data.head()"
   ]
  },
  {
   "cell_type": "code",
   "execution_count": 97,
   "id": "9e99e6c0",
   "metadata": {},
   "outputs": [],
   "source": [
    "x_train = data['message']\n",
    "y_train = data['label']\n",
    "x_val = val['message'].to_list()\n",
    "y_val = val['label'].map({'ham' : 0, 'spam' : 1})\n",
    "x_test = test['message'].to_list()\n",
    "y_test = test['label'].map({'ham' : 0, 'spam' : 1})"
   ]
  },
  {
   "cell_type": "code",
   "execution_count": 98,
   "id": "df3dc611",
   "metadata": {},
   "outputs": [
    {
     "data": {
      "text/plain": [
       "list"
      ]
     },
     "execution_count": 98,
     "metadata": {},
     "output_type": "execute_result"
    }
   ],
   "source": [
    "type(x_train.to_list())"
   ]
  },
  {
   "cell_type": "code",
   "execution_count": 99,
   "id": "15d255aa",
   "metadata": {},
   "outputs": [],
   "source": [
    "x_train = x_train.to_list()"
   ]
  },
  {
   "cell_type": "code",
   "execution_count": 100,
   "id": "0de34429",
   "metadata": {},
   "outputs": [
    {
     "name": "stdout",
     "output_type": "stream",
     "text": [
      "Model fitted with training accuracy: 98.45%\n",
      "Val accuracy 98.38420107719928\n",
      "Test accuracy 97.84946236559139\n"
     ]
    }
   ],
   "source": [
    "model = NaiveBayes()\n",
    "model.fit(x_train, y_train, 5)\n",
    "print(f\"Val accuracy {np.mean(model.predict(x_val) == y_val) * 100}\")\n",
    "print(f\"Test accuracy {np.mean(model.predict(x_test) == y_test) * 100}\")"
   ]
  }
 ],
 "metadata": {
  "kernelspec": {
   "display_name": "Python 3",
   "language": "python",
   "name": "python3"
  },
  "language_info": {
   "codemirror_mode": {
    "name": "ipython",
    "version": 3
   },
   "file_extension": ".py",
   "mimetype": "text/x-python",
   "name": "python",
   "nbconvert_exporter": "python",
   "pygments_lexer": "ipython3",
   "version": "3.12.8"
  }
 },
 "nbformat": 4,
 "nbformat_minor": 5
}
