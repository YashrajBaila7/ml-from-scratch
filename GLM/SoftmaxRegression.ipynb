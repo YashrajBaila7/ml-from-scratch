{
 "cells": [
  {
   "cell_type": "markdown",
   "id": "e8c5229b",
   "metadata": {},
   "source": [
    "# Poisson Regression\n",
    "\n",
    "This notebook implements **Softmax Regression** as taught in **Stanford's CS229: Machine Learning (Autumn 2018, Lecture 4)** by Anand Avati.\n",
    "\n",
    "It includes:\n",
    "- Feature normalization using **Z-score** \n",
    "- Optimization using gradient descent\n",
    "\n",
    "> 📘 This is part of a broader `ml-from-scratch` project implementing ML algorithms using only NumPy and pandas for educational purposes.\n",
    "\n"
   ]
  },
  {
   "cell_type": "code",
   "execution_count": 2,
   "id": "997868f7",
   "metadata": {},
   "outputs": [],
   "source": [
    "import pickle\n",
    "import numpy as np\n",
    "import pandas as pd\n",
    "from numpy import ndarray\n",
    "import matplotlib.pyplot as plt"
   ]
  },
  {
   "cell_type": "code",
   "execution_count": 3,
   "id": "bfc6f47d",
   "metadata": {},
   "outputs": [
    {
     "data": {
      "text/html": [
       "<div>\n",
       "<style scoped>\n",
       "    .dataframe tbody tr th:only-of-type {\n",
       "        vertical-align: middle;\n",
       "    }\n",
       "\n",
       "    .dataframe tbody tr th {\n",
       "        vertical-align: top;\n",
       "    }\n",
       "\n",
       "    .dataframe thead th {\n",
       "        text-align: right;\n",
       "    }\n",
       "</style>\n",
       "<table border=\"1\" class=\"dataframe\">\n",
       "  <thead>\n",
       "    <tr style=\"text-align: right;\">\n",
       "      <th></th>\n",
       "      <th>sepal_length</th>\n",
       "      <th>sepal_width</th>\n",
       "      <th>petal_length</th>\n",
       "      <th>petal_width</th>\n",
       "      <th>species</th>\n",
       "    </tr>\n",
       "  </thead>\n",
       "  <tbody>\n",
       "    <tr>\n",
       "      <th>0</th>\n",
       "      <td>5.1</td>\n",
       "      <td>3.5</td>\n",
       "      <td>1.4</td>\n",
       "      <td>0.2</td>\n",
       "      <td>setosa</td>\n",
       "    </tr>\n",
       "    <tr>\n",
       "      <th>1</th>\n",
       "      <td>4.9</td>\n",
       "      <td>3.0</td>\n",
       "      <td>1.4</td>\n",
       "      <td>0.2</td>\n",
       "      <td>setosa</td>\n",
       "    </tr>\n",
       "    <tr>\n",
       "      <th>2</th>\n",
       "      <td>4.7</td>\n",
       "      <td>3.2</td>\n",
       "      <td>1.3</td>\n",
       "      <td>0.2</td>\n",
       "      <td>setosa</td>\n",
       "    </tr>\n",
       "    <tr>\n",
       "      <th>3</th>\n",
       "      <td>4.6</td>\n",
       "      <td>3.1</td>\n",
       "      <td>1.5</td>\n",
       "      <td>0.2</td>\n",
       "      <td>setosa</td>\n",
       "    </tr>\n",
       "    <tr>\n",
       "      <th>4</th>\n",
       "      <td>5.0</td>\n",
       "      <td>3.6</td>\n",
       "      <td>1.4</td>\n",
       "      <td>0.2</td>\n",
       "      <td>setosa</td>\n",
       "    </tr>\n",
       "  </tbody>\n",
       "</table>\n",
       "</div>"
      ],
      "text/plain": [
       "   sepal_length  sepal_width  petal_length  petal_width species\n",
       "0           5.1          3.5           1.4          0.2  setosa\n",
       "1           4.9          3.0           1.4          0.2  setosa\n",
       "2           4.7          3.2           1.3          0.2  setosa\n",
       "3           4.6          3.1           1.5          0.2  setosa\n",
       "4           5.0          3.6           1.4          0.2  setosa"
      ]
     },
     "execution_count": 3,
     "metadata": {},
     "output_type": "execute_result"
    }
   ],
   "source": [
    "data = pd.read_csv(\"./data/iris.csv\")\n",
    "data.head()"
   ]
  },
  {
   "cell_type": "code",
   "execution_count": 4,
   "id": "ac900891",
   "metadata": {},
   "outputs": [],
   "source": [
    "x_train = data[['sepal_length', 'sepal_width', 'petal_length', 'petal_width']].values"
   ]
  },
  {
   "cell_type": "code",
   "execution_count": 5,
   "id": "3aee02d2",
   "metadata": {},
   "outputs": [
    {
     "name": "stdout",
     "output_type": "stream",
     "text": [
      "['setosa' 'versicolor' 'virginica']\n"
     ]
    }
   ],
   "source": [
    "classes=data[\"species\"].unique()\n",
    "print(classes)"
   ]
  },
  {
   "cell_type": "code",
   "execution_count": 6,
   "id": "fd3ca3f9",
   "metadata": {},
   "outputs": [
    {
     "name": "stdout",
     "output_type": "stream",
     "text": [
      "(150,)\n"
     ]
    }
   ],
   "source": [
    "y=data[\"species\"].values\n",
    "print(y.shape)"
   ]
  },
  {
   "cell_type": "code",
   "execution_count": null,
   "id": "cd42ed4c",
   "metadata": {},
   "outputs": [],
   "source": [
    "labels = data['species'].values  # shape: (150,)\n",
    "\n",
    "label_map = {'setosa': 0, 'versicolor': 1, 'virginica': 2}\n",
    "y = np.array([label_map[label] for label in labels])  # shape: (150,)\n",
    "\n",
    "K = 3  # number of classes\n",
    "Y_onehot = np.eye(K)[y]  # shape: (150, 3)"
   ]
  },
  {
   "cell_type": "code",
   "execution_count": 21,
   "id": "3de12c7d",
   "metadata": {},
   "outputs": [
    {
     "data": {
      "text/plain": [
       "(150, 3)"
      ]
     },
     "execution_count": 21,
     "metadata": {},
     "output_type": "execute_result"
    }
   ],
   "source": [
    "Y_onehot.shape"
   ]
  },
  {
   "cell_type": "code",
   "execution_count": 19,
   "id": "c68c413b",
   "metadata": {},
   "outputs": [],
   "source": [
    "class SoftmaxRegression:\n",
    "    def __init__(self):\n",
    "        self.x_mean: ndarray = None\n",
    "        self.x_std: ndarray = None\n",
    "        self.x_norm: ndarray = None\n",
    "        self.add_bias : bool = True\n",
    "        self.is_norm : bool = False\n",
    "        self.theta : ndarray = None\n",
    "    @staticmethod\n",
    "    def softmax(logits):\n",
    "        exps = np.exp(logits - np.max(logits, axis=1, keepdims=True))\n",
    "        return exps / np.sum(exps, axis=1, keepdims=True)\n",
    "    \n",
    "    @staticmethod\n",
    "    def h(x, theta):\n",
    "        # x m,n theta n,k\n",
    "        logits= x @ theta\n",
    "        return SoftmaxRegression.softmax(logits) #m, k\n",
    "    \n",
    "    @staticmethod\n",
    "    def cross_entropy_loss(Y_true, Y_pred):\n",
    "        \"\"\"\n",
    "        Y_true: one-hot encoded labels (m x K)\n",
    "        Y_pred: predicted softmax probabilities (m x K)\n",
    "        \"\"\"\n",
    "        m = Y_true.shape[0]\n",
    "        # Clip to avoid log(0)\n",
    "        Y_pred_clipped = np.clip(Y_pred, 1e-15, 1 - 1e-15)\n",
    "        log_probs = np.log(Y_pred_clipped)\n",
    "        loss = -np.sum(Y_true * log_probs) / m\n",
    "        return loss\n",
    "\n",
    "    \n",
    "    def normalize(self, x_train: ndarray, add_bias = True):\n",
    "        self.x_mean = x_train.mean(axis=0)\n",
    "        self.x_std = x_train.std(axis=0)\n",
    "        self.x_std[self.x_std == 0] = 1\n",
    "        self.x_norm = (x_train - self.x_mean) / self.x_std\n",
    "        if add_bias:\n",
    "            x_0 = np.ones((x_train.shape[0], 1))\n",
    "            self.x_norm = np.hstack([x_0, self.x_norm])\n",
    "        \n",
    "        self.add_bias= add_bias\n",
    "        self.is_norm = True\n",
    "\n",
    "    def train(self, x_train: ndarray, y_train: ndarray, alpha: float = 0.001, theta: ndarray = None, max_iters: int = 1000, add_bias: bool = True):\n",
    "        if not self.is_norm:\n",
    "            self.normalize(x_train, add_bias)\n",
    "        m, n = self.x_norm.shape\n",
    "        k = y_train.shape[1]\n",
    "        if theta is None:\n",
    "            theta = np.zeros((n, k))\n",
    "        \n",
    "        losses = []\n",
    "        for i in range(max_iters):\n",
    "            error = self.h(self.x_norm, theta) - y_train\n",
    "            grad = (1 / m) * (self.x_norm.T @ error)\n",
    "            theta -= alpha * grad\n",
    "            Y_preds = self.h(self.x_norm, theta)\n",
    "            loss = self.cross_entropy_loss(y_train, Y_preds)\n",
    "            losses.append(loss)\n",
    "\n",
    "        self.theta = theta\n",
    "        preds = np.argmax(self.h(self.x_norm, theta), axis=1)\n",
    "        targets = np.argmax(y_train, axis=1)\n",
    "        accuracy = np.mean(preds == targets)\n",
    "        print(f\"[Converged GD] Final Iter = {i + 1}, Final Loss = {loss:.6f}\")\n",
    "        print(f\"Accuracy: {accuracy * 100:.2f}%\")\n",
    "        plt.plot(range(1, len(losses) + 1), losses)\n",
    "        plt.xlabel(\"Iteration\")\n",
    "        plt.ylabel(\"Loss\")\n",
    "        plt.grid(True)\n",
    "        plt.title(\"Gradient Descent Loss Curve\")\n",
    "        plt.show()\n",
    "        \n",
    "\n",
    "    def save(self, filepath):\n",
    "        data = {\n",
    "            \"x_mean\" : self.x_mean,\n",
    "            \"x_std\" : self.x_std,\n",
    "            \"add_bias\" : self.add_bias,\n",
    "            \"theta\" : self.theta\n",
    "        }\n",
    "        with open(filepath, 'wb') as f:\n",
    "            pickle.dump(data, f)\n",
    "            \n",
    "    class Loader():\n",
    "        def __init__(self, path: str):\n",
    "            with open(path, 'rb') as f:\n",
    "                data = pickle.load(f)\n",
    "\n",
    "            self.model=SoftmaxRegression()\n",
    "            self.model.x_mean = data.get(\"x_mean\")\n",
    "            self.model.x_std = data.get(\"x_std\")\n",
    "            self.model.add_bias = data.get(\"add_bias\")\n",
    "            self.model.theta = data.get(\"theta\")\n",
    "            if self.model.theta is None:\n",
    "                raise ValueError(\"Invalid Parameter\")\n",
    "            \n",
    "        def predict(self, X: ndarray, labels: list=None):\n",
    "            X = np.asarray(X)\n",
    "            if X.ndim == 1:\n",
    "                X = X.reshape(1, -1)\n",
    "            x_mean = np.asarray(self.model.x_mean)\n",
    "            x_std = np.asarray(self.model.x_std)\n",
    "            x_norm = (X - x_mean) / x_std\n",
    "            if self.model.add_bias:\n",
    "                x_0 = np.ones((x_norm.shape[0], 1))\n",
    "                x_norm = np.hstack([x_0, x_norm])\n",
    "            \n",
    "            Y_pred = self.model.h(x_norm, self.model.theta)\n",
    "            idxs = np.argmax(Y_pred, axis=1)\n",
    "            if labels is None:\n",
    "                return idx\n",
    "            return [labels[int(idx)] for idx in idxs]\n",
    "\n"
   ]
  },
  {
   "cell_type": "code",
   "execution_count": 10,
   "id": "7806af85",
   "metadata": {},
   "outputs": [
    {
     "name": "stdout",
     "output_type": "stream",
     "text": [
      "[Converged GD] Final Iter = 16000, Final Loss = 0.099680\n",
      "Accuracy: 97.33%\n"
     ]
    },
    {
     "data": {
      "image/png": "[encoded data removed]",
      "text/plain": [
       "<Figure size 640x480 with 1 Axes>"
      ]
     },
     "metadata": {},
     "output_type": "display_data"
    }
   ],
   "source": [
    "model = SoftmaxRegression()\n",
    "model.train(x_train, Y_onehot, 0.01,max_iters=16000)"
   ]
  },
  {
   "cell_type": "code",
   "execution_count": 11,
   "id": "7dc115c0",
   "metadata": {},
   "outputs": [],
   "source": [
    "x_text = [5.1, 3.5, 1.4, 0.2]\n",
    "model.save(\"multiclass.pkl\")"
   ]
  },
  {
   "cell_type": "code",
   "execution_count": 20,
   "id": "16c0002a",
   "metadata": {},
   "outputs": [
    {
     "data": {
      "text/plain": [
       "['setosa']"
      ]
     },
     "execution_count": 20,
     "metadata": {},
     "output_type": "execute_result"
    }
   ],
   "source": [
    "infrence = SoftmaxRegression.Loader(\"multiclass.pkl\")\n",
    "infrence.predict(x_text, classes)"
   ]
  }
 ],
 "metadata": {
  "kernelspec": {
   "display_name": "Python 3",
   "language": "python",
   "name": "python3"
  },
  "language_info": {
   "codemirror_mode": {
    "name": "ipython",
    "version": 3
   },
   "file_extension": ".py",
   "mimetype": "text/x-python",
   "name": "python",
   "nbconvert_exporter": "python",
   "pygments_lexer": "ipython3",
   "version": "3.12.8"
  }
 },
 "nbformat": 4,
 "nbformat_minor": 5
}
